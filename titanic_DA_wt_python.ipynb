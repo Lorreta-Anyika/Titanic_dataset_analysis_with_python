{
 "cells": [
  {
   "cell_type": "code",
   "execution_count": 2,
   "id": "557a48f4",
   "metadata": {},
   "outputs": [
    {
     "name": "stderr",
     "output_type": "stream",
     "text": [
      "WARNING: Retrying (Retry(total=4, connect=None, read=None, redirect=None, status=None)) after connection broken by 'NewConnectionError('<pip._vendor.urllib3.connection.HTTPSConnection object at 0x0000021BB0DBE720>: Failed to establish a new connection: [Errno 11001] getaddrinfo failed')': /simple/camelot-py/\n",
      "WARNING: Retrying (Retry(total=3, connect=None, read=None, redirect=None, status=None)) after connection broken by 'NewConnectionError('<pip._vendor.urllib3.connection.HTTPSConnection object at 0x0000021BB103C920>: Failed to establish a new connection: [Errno 11001] getaddrinfo failed')': /simple/camelot-py/\n",
      "WARNING: Retrying (Retry(total=2, connect=None, read=None, redirect=None, status=None)) after connection broken by 'NewConnectionError('<pip._vendor.urllib3.connection.HTTPSConnection object at 0x0000021BB12099A0>: Failed to establish a new connection: [Errno 11001] getaddrinfo failed')': /simple/camelot-py/\n",
      "WARNING: Retrying (Retry(total=1, connect=None, read=None, redirect=None, status=None)) after connection broken by 'NewConnectionError('<pip._vendor.urllib3.connection.HTTPSConnection object at 0x0000021BB120AD50>: Failed to establish a new connection: [Errno 11001] getaddrinfo failed')': /simple/camelot-py/\n",
      "WARNING: Retrying (Retry(total=0, connect=None, read=None, redirect=None, status=None)) after connection broken by 'NewConnectionError('<pip._vendor.urllib3.connection.HTTPSConnection object at 0x0000021BB11DE5A0>: Failed to establish a new connection: [Errno 11001] getaddrinfo failed')': /simple/camelot-py/\n",
      "ERROR: Could not find a version that satisfies the requirement camelot-py[cv] (from versions: none)\n",
      "ERROR: No matching distribution found for camelot-py[cv]\n"
     ]
    }
   ],
   "source": [
    "!pip install camelot-py[cv]\n",
    "\n"
   ]
  },
  {
   "cell_type": "code",
   "execution_count": 5,
   "id": "51b22ec9",
   "metadata": {},
   "outputs": [
    {
     "ename": "ModuleNotFoundError",
     "evalue": "No module named 'camelot'",
     "output_type": "error",
     "traceback": [
      "\u001b[1;31m---------------------------------------------------------------------------\u001b[0m",
      "\u001b[1;31mModuleNotFoundError\u001b[0m                       Traceback (most recent call last)",
      "Cell \u001b[1;32mIn[5], line 1\u001b[0m\n\u001b[1;32m----> 1\u001b[0m \u001b[38;5;28;01mimport\u001b[39;00m \u001b[38;5;21;01mcamelot\u001b[39;00m\n\u001b[0;32m      3\u001b[0m \u001b[38;5;66;03m# Path to your PDF file\u001b[39;00m\n\u001b[0;32m      4\u001b[0m pdf_path \u001b[38;5;241m=\u001b[39m \u001b[38;5;124mr\u001b[39m\u001b[38;5;124m\"\u001b[39m\u001b[38;5;124mC:\u001b[39m\u001b[38;5;124m\\\u001b[39m\u001b[38;5;124mUsers\u001b[39m\u001b[38;5;124m\\\u001b[39m\u001b[38;5;124muser\u001b[39m\u001b[38;5;124m\\\u001b[39m\u001b[38;5;124mDownloads\u001b[39m\u001b[38;5;124m\\\u001b[39m\u001b[38;5;124mStatements download_20241231182726.pdf\u001b[39m\u001b[38;5;124m\"\u001b[39m\n",
      "\u001b[1;31mModuleNotFoundError\u001b[0m: No module named 'camelot'"
     ]
    }
   ],
   "source": [
    "import camelot\n",
    "\n",
    "# Path to your PDF file\n",
    "pdf_path = r\"C:\\Users\\user\\Downloads\\Statements download_20241231182726.pdf\"\n",
    "\n",
    "# Extract tables\n",
    "tables = camelot.read_pdf(pdf_path, pages=\"all\", flavor=\"stream\")\n",
    "\n",
    "# Save each table as a CSV file\n",
    "for i, table in enumerate(tables):\n",
    "    output_csv_path = f\"C:\\\\Users\\\\user\\\\Downloads\\\\table_{i+1}.csv\"\n",
    "    table.to_csv(output_csv_path)\n",
    "    print(f\"Table {i+1} saved to {output_csv_path}\")\n"
   ]
  },
  {
   "cell_type": "code",
   "execution_count": null,
   "id": "5e88ff82",
   "metadata": {},
   "outputs": [],
   "source": []
  },
  {
   "cell_type": "code",
   "execution_count": null,
   "id": "a66b7b70",
   "metadata": {},
   "outputs": [],
   "source": []
  }
 ],
 "metadata": {
  "kernelspec": {
   "display_name": "Python 3 (ipykernel)",
   "language": "python",
   "name": "python3"
  },
  "language_info": {
   "codemirror_mode": {
    "name": "ipython",
    "version": 3
   },
   "file_extension": ".py",
   "mimetype": "text/x-python",
   "name": "python",
   "nbconvert_exporter": "python",
   "pygments_lexer": "ipython3",
   "version": "3.12.3"
  }
 },
 "nbformat": 4,
 "nbformat_minor": 5
}
